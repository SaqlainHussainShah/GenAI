{
  "nbformat": 4,
  "nbformat_minor": 0,
  "metadata": {
    "colab": {
      "provenance": [],
      "mount_file_id": "1nRyTF8wpGo_j9ZMoyYJcDFe2-W5Kdhth",
      "authorship_tag": "ABX9TyMjUSHvQXkB9O5NHZnHMo//",
      "include_colab_link": true
    },
    "kernelspec": {
      "name": "python3",
      "display_name": "Python 3"
    },
    "language_info": {
      "name": "python"
    }
  },
  "cells": [
    {
      "cell_type": "markdown",
      "metadata": {
        "id": "view-in-github",
        "colab_type": "text"
      },
      "source": [
        "<a href=\"https://colab.research.google.com/github/SaqlainHussainShah/GenAI/blob/main/BERT_model_finetuning.ipynb\" target=\"_parent\"><img src=\"https://colab.research.google.com/assets/colab-badge.svg\" alt=\"Open In Colab\"/></a>"
      ]
    },
    {
      "cell_type": "code",
      "execution_count": null,
      "metadata": {
        "id": "WrwAhqPEgznC"
      },
      "outputs": [],
      "source": [
        "finetuning_dataset = \"/content/drive/My Drive/shaharyar_bert/finetuning_dataset.csv\"\n"
      ]
    },
    {
      "cell_type": "code",
      "source": [
        "import pandas as pd"
      ],
      "metadata": {
        "id": "IGQPsl40hTFW"
      },
      "execution_count": null,
      "outputs": []
    },
    {
      "cell_type": "code",
      "source": [
        "result_df = pd.read_csv(finetuning_dataset)"
      ],
      "metadata": {
        "id": "ggMZaZKXhVF8"
      },
      "execution_count": null,
      "outputs": []
    },
    {
      "cell_type": "code",
      "source": [
        "result_df.head()"
      ],
      "metadata": {
        "colab": {
          "base_uri": "https://localhost:8080/",
          "height": 293
        },
        "id": "lBLiZfs7hfVu",
        "outputId": "7f46e1e2-d0bf-4b9a-e1fb-d9f33c54246a"
      },
      "execution_count": null,
      "outputs": [
        {
          "output_type": "execute_result",
          "data": {
            "text/plain": [
              "          CVE_ID                         Input_Combined_Description  \\\n",
              "0  CVE-2016-0110  Microsoft Internet Explorer 10 through 11 and ...   \n",
              "1  CVE-2016-0111  Microsoft Internet Explorer 9 through 11 and M...   \n",
              "2  CVE-2016-0112  Microsoft Internet Explorer 9 through 11 allow...   \n",
              "3  CVE-2016-0113  Microsoft Internet Explorer 9 through 11 allow...   \n",
              "4  CVE-2016-0114  Microsoft Internet Explorer 11 allows remote a...   \n",
              "\n",
              "                         Output_Combined_Description  \n",
              "0  Adversaries may send phishing messages to gain...  \n",
              "1  Adversaries may gain access to a system throug...  \n",
              "2  Adversaries may gain access to a system throug...  \n",
              "3  Adversaries may exploit software vulnerabiliti...  \n",
              "4  Adversaries may gain access to a system throug...  "
            ],
            "text/html": [
              "\n",
              "  <div id=\"df-702d09f3-d77b-463a-8287-c17ddd8fb99d\" class=\"colab-df-container\">\n",
              "    <div>\n",
              "<style scoped>\n",
              "    .dataframe tbody tr th:only-of-type {\n",
              "        vertical-align: middle;\n",
              "    }\n",
              "\n",
              "    .dataframe tbody tr th {\n",
              "        vertical-align: top;\n",
              "    }\n",
              "\n",
              "    .dataframe thead th {\n",
              "        text-align: right;\n",
              "    }\n",
              "</style>\n",
              "<table border=\"1\" class=\"dataframe\">\n",
              "  <thead>\n",
              "    <tr style=\"text-align: right;\">\n",
              "      <th></th>\n",
              "      <th>CVE_ID</th>\n",
              "      <th>Input_Combined_Description</th>\n",
              "      <th>Output_Combined_Description</th>\n",
              "    </tr>\n",
              "  </thead>\n",
              "  <tbody>\n",
              "    <tr>\n",
              "      <th>0</th>\n",
              "      <td>CVE-2016-0110</td>\n",
              "      <td>Microsoft Internet Explorer 10 through 11 and ...</td>\n",
              "      <td>Adversaries may send phishing messages to gain...</td>\n",
              "    </tr>\n",
              "    <tr>\n",
              "      <th>1</th>\n",
              "      <td>CVE-2016-0111</td>\n",
              "      <td>Microsoft Internet Explorer 9 through 11 and M...</td>\n",
              "      <td>Adversaries may gain access to a system throug...</td>\n",
              "    </tr>\n",
              "    <tr>\n",
              "      <th>2</th>\n",
              "      <td>CVE-2016-0112</td>\n",
              "      <td>Microsoft Internet Explorer 9 through 11 allow...</td>\n",
              "      <td>Adversaries may gain access to a system throug...</td>\n",
              "    </tr>\n",
              "    <tr>\n",
              "      <th>3</th>\n",
              "      <td>CVE-2016-0113</td>\n",
              "      <td>Microsoft Internet Explorer 9 through 11 allow...</td>\n",
              "      <td>Adversaries may exploit software vulnerabiliti...</td>\n",
              "    </tr>\n",
              "    <tr>\n",
              "      <th>4</th>\n",
              "      <td>CVE-2016-0114</td>\n",
              "      <td>Microsoft Internet Explorer 11 allows remote a...</td>\n",
              "      <td>Adversaries may gain access to a system throug...</td>\n",
              "    </tr>\n",
              "  </tbody>\n",
              "</table>\n",
              "</div>\n",
              "    <div class=\"colab-df-buttons\">\n",
              "\n",
              "  <div class=\"colab-df-container\">\n",
              "    <button class=\"colab-df-convert\" onclick=\"convertToInteractive('df-702d09f3-d77b-463a-8287-c17ddd8fb99d')\"\n",
              "            title=\"Convert this dataframe to an interactive table.\"\n",
              "            style=\"display:none;\">\n",
              "\n",
              "  <svg xmlns=\"http://www.w3.org/2000/svg\" height=\"24px\" viewBox=\"0 -960 960 960\">\n",
              "    <path d=\"M120-120v-720h720v720H120Zm60-500h600v-160H180v160Zm220 220h160v-160H400v160Zm0 220h160v-160H400v160ZM180-400h160v-160H180v160Zm440 0h160v-160H620v160ZM180-180h160v-160H180v160Zm440 0h160v-160H620v160Z\"/>\n",
              "  </svg>\n",
              "    </button>\n",
              "\n",
              "  <style>\n",
              "    .colab-df-container {\n",
              "      display:flex;\n",
              "      gap: 12px;\n",
              "    }\n",
              "\n",
              "    .colab-df-convert {\n",
              "      background-color: #E8F0FE;\n",
              "      border: none;\n",
              "      border-radius: 50%;\n",
              "      cursor: pointer;\n",
              "      display: none;\n",
              "      fill: #1967D2;\n",
              "      height: 32px;\n",
              "      padding: 0 0 0 0;\n",
              "      width: 32px;\n",
              "    }\n",
              "\n",
              "    .colab-df-convert:hover {\n",
              "      background-color: #E2EBFA;\n",
              "      box-shadow: 0px 1px 2px rgba(60, 64, 67, 0.3), 0px 1px 3px 1px rgba(60, 64, 67, 0.15);\n",
              "      fill: #174EA6;\n",
              "    }\n",
              "\n",
              "    .colab-df-buttons div {\n",
              "      margin-bottom: 4px;\n",
              "    }\n",
              "\n",
              "    [theme=dark] .colab-df-convert {\n",
              "      background-color: #3B4455;\n",
              "      fill: #D2E3FC;\n",
              "    }\n",
              "\n",
              "    [theme=dark] .colab-df-convert:hover {\n",
              "      background-color: #434B5C;\n",
              "      box-shadow: 0px 1px 3px 1px rgba(0, 0, 0, 0.15);\n",
              "      filter: drop-shadow(0px 1px 2px rgba(0, 0, 0, 0.3));\n",
              "      fill: #FFFFFF;\n",
              "    }\n",
              "  </style>\n",
              "\n",
              "    <script>\n",
              "      const buttonEl =\n",
              "        document.querySelector('#df-702d09f3-d77b-463a-8287-c17ddd8fb99d button.colab-df-convert');\n",
              "      buttonEl.style.display =\n",
              "        google.colab.kernel.accessAllowed ? 'block' : 'none';\n",
              "\n",
              "      async function convertToInteractive(key) {\n",
              "        const element = document.querySelector('#df-702d09f3-d77b-463a-8287-c17ddd8fb99d');\n",
              "        const dataTable =\n",
              "          await google.colab.kernel.invokeFunction('convertToInteractive',\n",
              "                                                    [key], {});\n",
              "        if (!dataTable) return;\n",
              "\n",
              "        const docLinkHtml = 'Like what you see? Visit the ' +\n",
              "          '<a target=\"_blank\" href=https://colab.research.google.com/notebooks/data_table.ipynb>data table notebook</a>'\n",
              "          + ' to learn more about interactive tables.';\n",
              "        element.innerHTML = '';\n",
              "        dataTable['output_type'] = 'display_data';\n",
              "        await google.colab.output.renderOutput(dataTable, element);\n",
              "        const docLink = document.createElement('div');\n",
              "        docLink.innerHTML = docLinkHtml;\n",
              "        element.appendChild(docLink);\n",
              "      }\n",
              "    </script>\n",
              "  </div>\n",
              "\n",
              "\n",
              "<div id=\"df-480efdb4-9da5-46a0-b061-a61e9d8e6871\">\n",
              "  <button class=\"colab-df-quickchart\" onclick=\"quickchart('df-480efdb4-9da5-46a0-b061-a61e9d8e6871')\"\n",
              "            title=\"Suggest charts\"\n",
              "            style=\"display:none;\">\n",
              "\n",
              "<svg xmlns=\"http://www.w3.org/2000/svg\" height=\"24px\"viewBox=\"0 0 24 24\"\n",
              "     width=\"24px\">\n",
              "    <g>\n",
              "        <path d=\"M19 3H5c-1.1 0-2 .9-2 2v14c0 1.1.9 2 2 2h14c1.1 0 2-.9 2-2V5c0-1.1-.9-2-2-2zM9 17H7v-7h2v7zm4 0h-2V7h2v10zm4 0h-2v-4h2v4z\"/>\n",
              "    </g>\n",
              "</svg>\n",
              "  </button>\n",
              "\n",
              "<style>\n",
              "  .colab-df-quickchart {\n",
              "      --bg-color: #E8F0FE;\n",
              "      --fill-color: #1967D2;\n",
              "      --hover-bg-color: #E2EBFA;\n",
              "      --hover-fill-color: #174EA6;\n",
              "      --disabled-fill-color: #AAA;\n",
              "      --disabled-bg-color: #DDD;\n",
              "  }\n",
              "\n",
              "  [theme=dark] .colab-df-quickchart {\n",
              "      --bg-color: #3B4455;\n",
              "      --fill-color: #D2E3FC;\n",
              "      --hover-bg-color: #434B5C;\n",
              "      --hover-fill-color: #FFFFFF;\n",
              "      --disabled-bg-color: #3B4455;\n",
              "      --disabled-fill-color: #666;\n",
              "  }\n",
              "\n",
              "  .colab-df-quickchart {\n",
              "    background-color: var(--bg-color);\n",
              "    border: none;\n",
              "    border-radius: 50%;\n",
              "    cursor: pointer;\n",
              "    display: none;\n",
              "    fill: var(--fill-color);\n",
              "    height: 32px;\n",
              "    padding: 0;\n",
              "    width: 32px;\n",
              "  }\n",
              "\n",
              "  .colab-df-quickchart:hover {\n",
              "    background-color: var(--hover-bg-color);\n",
              "    box-shadow: 0 1px 2px rgba(60, 64, 67, 0.3), 0 1px 3px 1px rgba(60, 64, 67, 0.15);\n",
              "    fill: var(--button-hover-fill-color);\n",
              "  }\n",
              "\n",
              "  .colab-df-quickchart-complete:disabled,\n",
              "  .colab-df-quickchart-complete:disabled:hover {\n",
              "    background-color: var(--disabled-bg-color);\n",
              "    fill: var(--disabled-fill-color);\n",
              "    box-shadow: none;\n",
              "  }\n",
              "\n",
              "  .colab-df-spinner {\n",
              "    border: 2px solid var(--fill-color);\n",
              "    border-color: transparent;\n",
              "    border-bottom-color: var(--fill-color);\n",
              "    animation:\n",
              "      spin 1s steps(1) infinite;\n",
              "  }\n",
              "\n",
              "  @keyframes spin {\n",
              "    0% {\n",
              "      border-color: transparent;\n",
              "      border-bottom-color: var(--fill-color);\n",
              "      border-left-color: var(--fill-color);\n",
              "    }\n",
              "    20% {\n",
              "      border-color: transparent;\n",
              "      border-left-color: var(--fill-color);\n",
              "      border-top-color: var(--fill-color);\n",
              "    }\n",
              "    30% {\n",
              "      border-color: transparent;\n",
              "      border-left-color: var(--fill-color);\n",
              "      border-top-color: var(--fill-color);\n",
              "      border-right-color: var(--fill-color);\n",
              "    }\n",
              "    40% {\n",
              "      border-color: transparent;\n",
              "      border-right-color: var(--fill-color);\n",
              "      border-top-color: var(--fill-color);\n",
              "    }\n",
              "    60% {\n",
              "      border-color: transparent;\n",
              "      border-right-color: var(--fill-color);\n",
              "    }\n",
              "    80% {\n",
              "      border-color: transparent;\n",
              "      border-right-color: var(--fill-color);\n",
              "      border-bottom-color: var(--fill-color);\n",
              "    }\n",
              "    90% {\n",
              "      border-color: transparent;\n",
              "      border-bottom-color: var(--fill-color);\n",
              "    }\n",
              "  }\n",
              "</style>\n",
              "\n",
              "  <script>\n",
              "    async function quickchart(key) {\n",
              "      const quickchartButtonEl =\n",
              "        document.querySelector('#' + key + ' button');\n",
              "      quickchartButtonEl.disabled = true;  // To prevent multiple clicks.\n",
              "      quickchartButtonEl.classList.add('colab-df-spinner');\n",
              "      try {\n",
              "        const charts = await google.colab.kernel.invokeFunction(\n",
              "            'suggestCharts', [key], {});\n",
              "      } catch (error) {\n",
              "        console.error('Error during call to suggestCharts:', error);\n",
              "      }\n",
              "      quickchartButtonEl.classList.remove('colab-df-spinner');\n",
              "      quickchartButtonEl.classList.add('colab-df-quickchart-complete');\n",
              "    }\n",
              "    (() => {\n",
              "      let quickchartButtonEl =\n",
              "        document.querySelector('#df-480efdb4-9da5-46a0-b061-a61e9d8e6871 button');\n",
              "      quickchartButtonEl.style.display =\n",
              "        google.colab.kernel.accessAllowed ? 'block' : 'none';\n",
              "    })();\n",
              "  </script>\n",
              "</div>\n",
              "\n",
              "    </div>\n",
              "  </div>\n"
            ],
            "application/vnd.google.colaboratory.intrinsic+json": {
              "type": "dataframe",
              "variable_name": "result_df",
              "summary": "{\n  \"name\": \"result_df\",\n  \"rows\": 67,\n  \"fields\": [\n    {\n      \"column\": \"CVE_ID\",\n      \"properties\": {\n        \"dtype\": \"string\",\n        \"num_unique_values\": 67,\n        \"samples\": [\n          \"CVE-2021-20354\",\n          \"CVE-2018-12152\",\n          \"CVE-2016-0114\"\n        ],\n        \"semantic_type\": \"\",\n        \"description\": \"\"\n      }\n    },\n    {\n      \"column\": \"Input_Combined_Description\",\n      \"properties\": {\n        \"dtype\": \"string\",\n        \"num_unique_values\": 67,\n        \"samples\": [\n          \"IBM WebSphere Application Server 8.0, 8.5, and 9.0 could allow a remote attacker to traverse directories. An attacker could send a specially-crafted URL request containing \\\"dot dot\\\" sequences (/../) to view arbitrary files on the system. IBM X-Force ID: 194883. Improper Limitation of a Pathname to a Restricted Directory ('Path Traversal') The product uses external input to construct a pathname that is intended to identify a file or directory that is located underneath a restricted parent directory, but the product does not properly neutralize special elements within the pathname that can cause the pathname to resolve to a location that is outside of the restricted directory. Many file operations are intended to take place within a restricted directory. By using special elements such as .. and / separators, attackers can escape outside of the restricted location to access files or directories that are elsewhere on the system. One of the most common special elements is the ../ sequence, which in most modern operating systems is interpreted as the parent directory of the current location. This is referred to as relative path traversal. Path traversal also covers the use of absolute pathnames such as /usr/local/bin, which may also be useful in accessing unexpected files. This is referred to as absolute path traversal. In many programming languages, the injection of a null byte (the 0 or NUL) may allow an attacker to truncate a generated filename to widen the scope of attack. For example, the product may add .txt to any pathname, thus limiting the attacker to text files, but a null injection may effectively remove this restriction.\",\n          \"Pointer corruption in Unified Shader Compiler in Intel Graphics Drivers before 10.18.x.5056 (aka 15.33.x.5056), 10.18.x.5057 (aka 15.36.x.5057) and 20.19.x.5058 (aka 15.40.x.5058) may allow an unauthenticated remote user to potentially execute arbitrary WebGL code via local access. Improper Restriction of Operations within the Bounds of a Memory Buffer The product performs operations on a memory buffer, but it can read from or write to a memory location that is outside of the intended boundary of the buffer. Certain languages allow direct addressing of memory locations and do not automatically ensure that these locations are valid for the memory buffer that is being referenced. This can cause read or write operations to be performed on memory locations that may be associated with other variables, data structures, or internal program data. As a result, an attacker may be able to execute arbitrary code, alter the intended control flow, read sensitive information, or cause the system to crash.\",\n          \"Microsoft Internet Explorer 11 allows remote attackers to execute arbitrary code or cause a denial of service (memory corruption) via a crafted web site, aka \\\"Internet Explorer Memory Corruption Vulnerability,\\\" a different vulnerability than CVE-2016-0102, CVE-2016-0103, CVE-2016-0106, CVE-2016-0108, and CVE-2016-0109. Improper Restriction of Operations within the Bounds of a Memory Buffer The product performs operations on a memory buffer, but it can read from or write to a memory location that is outside of the intended boundary of the buffer. Certain languages allow direct addressing of memory locations and do not automatically ensure that these locations are valid for the memory buffer that is being referenced. This can cause read or write operations to be performed on memory locations that may be associated with other variables, data structures, or internal program data. As a result, an attacker may be able to execute arbitrary code, alter the intended control flow, read sensitive information, or cause the system to crash.\"\n        ],\n        \"semantic_type\": \"\",\n        \"description\": \"\"\n      }\n    },\n    {\n      \"column\": \"Output_Combined_Description\",\n      \"properties\": {\n        \"dtype\": \"category\",\n        \"num_unique_values\": 16,\n        \"samples\": [\n          \"Adversaries may send phishing messages to gain access to victim systems. All forms of phishing are electronically delivered social engineering. Phishing can be targeted, known as spearphishing. In spearphishing, a specific individual, company, or industry will be targeted by the adversary. More generally, adversaries can conduct non-targeted phishing, such as in mass malware spam campaigns.\\n\\nAdversaries may send victims emails containing malicious attachments or links, typically to execute malicious code on victim systems. Phishing may also be conducted via third-party services, like social media platforms. Phishing may also involve social engineering techniques, such as posing as a trusted source, as well as evasive techniques such as removing or manipulating emails or metadata/headers from compromised accounts being abused to send messages (e.g., [Email Hiding Rules](https://attack.mitre.org/techniques/T1564/008)).(Citation: Microsoft OAuth Spam 2022)(Citation: Palo Alto Unit 42 VBA Infostealer 2014) Another way to accomplish this is by forging or spoofing(Citation: Proofpoint-spoof) the identity of the sender which can be used to fool both the human recipient as well as automated security tools.(Citation: cyberproof-double-bounce) \\n\\nVictims may also receive phishing messages that instruct them to call a phone number where they are directed to visit a malicious URL, download malware,(Citation: sygnia Luna Month)(Citation: CISA Remote Monitoring and Management Software) or install adversary-accessible remote management tools onto their computer (i.e., [User Execution](https://attack.mitre.org/techniques/T1204)).(Citation: Unit42 Luna Moth) Phishing\",\n          \"Adversaries may gain access to a system through a user visiting a website over the normal course of browsing. With this technique, the user's web browser is typically targeted for exploitation, but adversaries may also use compromised websites for non-exploitation behavior such as acquiring [Application Access Token](https://attack.mitre.org/techniques/T1550/001).\\n\\nMultiple ways of delivering exploit code to a browser exist (i.e., [Drive-by Target](https://attack.mitre.org/techniques/T1608/004)), including:\\n\\n* A legitimate website is compromised where adversaries have injected some form of malicious code such as JavaScript, iFrames, and cross-site scripting\\n* Script files served to a legitimate website from a publicly writeable cloud storage bucket are modified by an adversary\\n* Malicious ads are paid for and served through legitimate ad providers (i.e., [Malvertising](https://attack.mitre.org/techniques/T1583/008))\\n* Built-in web application interfaces are leveraged for the insertion of any other kind of object that can be used to display web content or contain a script that executes on the visiting client (e.g. forum posts, comments, and other user controllable web content).\\n\\nOften the website used by an adversary is one visited by a specific community, such as government, a particular industry, or region, where the goal is to compromise a specific user or set of users based on a shared interest. This kind of targeted campaign is often referred to a strategic web compromise or watering hole attack. There are several known examples of this occurring.(Citation: Shadowserver Strategic Web Compromise)\\n\\nTypical drive-by compromise process:\\n\\n1. A user visits a website that is used to host the adversary controlled content.\\n2. Scripts automatically execute, typically searching versions of the browser and plugins for a potentially vulnerable version. \\n    * The user may be required to assist in this process by enabling scripting or active website components and ignoring warning dialog boxes.\\n3. Upon finding a vulnerable version, exploit code is delivered to the browser.\\n4. If exploitation is successful, then it will give the adversary code execution on the user's system unless other protections are in place.\\n    * In some cases a second visit to the website after the initial scan is required before exploit code is delivered.\\n\\nUnlike [Exploit Public-Facing Application](https://attack.mitre.org/techniques/T1190), the focus of this technique is to exploit software on a client endpoint upon visiting a website. This will commonly give an adversary access to systems on the internal network instead of external systems that may be in a DMZ.\\n\\nAdversaries may also use compromised websites to deliver a user to a malicious application designed to [Steal Application Access Token](https://attack.mitre.org/techniques/T1528)s, like OAuth tokens, to gain access to protected applications and information. These malicious applications have been delivered through popups on legitimate websites.(Citation: Volexity OceanLotus Nov 2017) Drive-by Compromise\",\n          \"Adversaries may attempt to exploit a weakness in an Internet-facing host or system to initially access a network. The weakness in the system can be a software bug, a temporary glitch, or a misconfiguration.\\n\\nExploited applications are often websites/web servers, but can also include databases (like SQL), standard services (like SMB or SSH), network device administration and management protocols (like SNMP and Smart Install), and any other system with Internet accessible open sockets.(Citation: NVD CVE-2016-6662)(Citation: CIS Multiple SMB Vulnerabilities)(Citation: US-CERT TA18-106A Network Infrastructure Devices 2018)(Citation: Cisco Blog Legacy Device Attacks)(Citation: NVD CVE-2014-7169) Depending on the flaw being exploited this may also involve [Exploitation for Defense Evasion](https://attack.mitre.org/techniques/T1211). \\n\\nIf an application is hosted on cloud-based infrastructure and/or is containerized, then exploiting it may lead to compromise of the underlying instance or container. This can allow an adversary a path to access the cloud or container APIs, exploit container host access via [Escape to Host](https://attack.mitre.org/techniques/T1611), or take advantage of weak identity and access management policies.\\n\\nAdversaries may also exploit edge network infrastructure and related appliances, specifically targeting devices that do not support robust host-based defenses.(Citation: Mandiant Fortinet Zero Day)(Citation: Wired Russia Cyberwar)\\n\\nFor websites and databases, the OWASP top 10 and CWE top 25 highlight the most common web-based vulnerabilities.(Citation: OWASP Top 10)(Citation: CWE top 25) Exploit Public-Facing Application\"\n        ],\n        \"semantic_type\": \"\",\n        \"description\": \"\"\n      }\n    }\n  ]\n}"
            }
          },
          "metadata": {},
          "execution_count": 8
        }
      ]
    },
    {
      "cell_type": "code",
      "source": [
        "import pandas as pd\n",
        "import torch\n",
        "from transformers import BartTokenizer, BartForConditionalGeneration\n",
        "from torch.utils.data import Dataset, DataLoader\n",
        "from transformers import AdamW\n",
        "\n",
        "# Define custom dataset class\n",
        "class Seq2SeqDataset(Dataset):\n",
        "    def __init__(self, input_sentences, output_sentences, tokenizer, max_length):\n",
        "        self.input_sentences = input_sentences\n",
        "        self.output_sentences = output_sentences\n",
        "        self.tokenizer = tokenizer\n",
        "        self.max_length = max_length\n",
        "\n",
        "    def __len__(self):\n",
        "        return len(self.input_sentences)\n",
        "\n",
        "    def __getitem__(self, idx):\n",
        "        input_text = self.input_sentences[idx]\n",
        "        output_text = self.output_sentences[idx]\n",
        "\n",
        "        input_encodings = self.tokenizer(input_text, max_length=self.max_length, truncation=True, padding='max_length', return_tensors='pt')\n",
        "        output_encodings = self.tokenizer(output_text, max_length=self.max_length, truncation=True, padding='max_length', return_tensors='pt')\n",
        "\n",
        "        return {\n",
        "            'input_ids': input_encodings['input_ids'].flatten(),\n",
        "            'attention_mask': input_encodings['attention_mask'].flatten(),\n",
        "            'labels': output_encodings['input_ids'].flatten(),\n",
        "        }\n",
        "\n",
        "# Load your DataFrame\n",
        "# result_df = pd.read_csv('path_to_your_dataframe.csv')\n",
        "\n",
        "# Assuming your DataFrame 'result_df' contains 'Input Combined Description' and 'Output Combined Description' columns\n",
        "input_sentences = result_df['Input_Combined_Description'].tolist()\n",
        "output_sentences = result_df['Output_Combined_Description'].tolist()\n",
        "\n",
        "# Define tokenizer and model\n",
        "tokenizer = BartTokenizer.from_pretrained('facebook/bart-base')\n",
        "model = BartForConditionalGeneration.from_pretrained('facebook/bart-base').to('cuda')\n",
        "\n",
        "# Define dataset and dataloader\n",
        "dataset = Seq2SeqDataset(input_sentences, output_sentences, tokenizer, max_length=64)\n",
        "dataloader = DataLoader(dataset, batch_size=4, shuffle=True)\n",
        "\n",
        "# Define optimizer and scheduler\n",
        "optimizer = AdamW(model.parameters(), lr=5e-5)\n",
        "scheduler = torch.optim.lr_scheduler.StepLR(optimizer, step_size=1, gamma=0.1)\n",
        "\n",
        "# Fine-tuning loop\n",
        "num_epochs = 10\n",
        "for epoch in range(num_epochs):\n",
        "    model.train()\n",
        "    total_loss = 0\n",
        "    for batch in dataloader:\n",
        "        input_ids = batch['input_ids'].to('cuda')\n",
        "        attention_mask = batch['attention_mask'].to('cuda')\n",
        "        labels = batch['labels'].to('cuda')\n",
        "\n",
        "        optimizer.zero_grad()\n",
        "        outputs = model(input_ids=input_ids, attention_mask=attention_mask, labels=labels)\n",
        "        loss = outputs.loss\n",
        "        total_loss += loss.item()\n",
        "\n",
        "        loss.backward()\n",
        "        optimizer.step()\n",
        "\n",
        "    avg_loss = total_loss / len(dataloader)\n",
        "    print(f\"Epoch {epoch+1}/{num_epochs}, Average Loss: {avg_loss}\")\n",
        "\n",
        "    # Optionally, adjust learning rate\n",
        "    scheduler.step()\n",
        "\n",
        "# Save the fine-tuned model\n",
        "model.save_pretrained(\"fine_tuned_bart_model\")\n"
      ],
      "metadata": {
        "colab": {
          "base_uri": "https://localhost:8080/",
          "height": 228
        },
        "id": "bb8p9g9ThOGZ",
        "outputId": "8d570278-1597-4cb7-c7f9-9a2b0414edad"
      },
      "execution_count": null,
      "outputs": [
        {
          "output_type": "error",
          "ename": "NameError",
          "evalue": "name 'result_df' is not defined",
          "traceback": [
            "\u001b[0;31m---------------------------------------------------------------------------\u001b[0m",
            "\u001b[0;31mNameError\u001b[0m                                 Traceback (most recent call last)",
            "\u001b[0;32m<ipython-input-1-725282ac7e8a>\u001b[0m in \u001b[0;36m<cell line: 35>\u001b[0;34m()\u001b[0m\n\u001b[1;32m     33\u001b[0m \u001b[0;34m\u001b[0m\u001b[0m\n\u001b[1;32m     34\u001b[0m \u001b[0;31m# Assuming your DataFrame 'result_df' contains 'Input Combined Description' and 'Output Combined Description' columns\u001b[0m\u001b[0;34m\u001b[0m\u001b[0;34m\u001b[0m\u001b[0m\n\u001b[0;32m---> 35\u001b[0;31m \u001b[0minput_sentences\u001b[0m \u001b[0;34m=\u001b[0m \u001b[0mresult_df\u001b[0m\u001b[0;34m[\u001b[0m\u001b[0;34m'Input_Combined_Description'\u001b[0m\u001b[0;34m]\u001b[0m\u001b[0;34m.\u001b[0m\u001b[0mtolist\u001b[0m\u001b[0;34m(\u001b[0m\u001b[0;34m)\u001b[0m\u001b[0;34m\u001b[0m\u001b[0;34m\u001b[0m\u001b[0m\n\u001b[0m\u001b[1;32m     36\u001b[0m \u001b[0moutput_sentences\u001b[0m \u001b[0;34m=\u001b[0m \u001b[0mresult_df\u001b[0m\u001b[0;34m[\u001b[0m\u001b[0;34m'Output_Combined_Description'\u001b[0m\u001b[0;34m]\u001b[0m\u001b[0;34m.\u001b[0m\u001b[0mtolist\u001b[0m\u001b[0;34m(\u001b[0m\u001b[0;34m)\u001b[0m\u001b[0;34m\u001b[0m\u001b[0;34m\u001b[0m\u001b[0m\n\u001b[1;32m     37\u001b[0m \u001b[0;34m\u001b[0m\u001b[0m\n",
            "\u001b[0;31mNameError\u001b[0m: name 'result_df' is not defined"
          ]
        }
      ]
    },
    {
      "cell_type": "code",
      "source": [
        "model.save_pretrained(\"/content/drive/My Drive/shaharyar_bert/fine_tuned_bart_model\")"
      ],
      "metadata": {
        "colab": {
          "base_uri": "https://localhost:8080/"
        },
        "id": "0mMhH8u3iHtr",
        "outputId": "9d5c9754-e6a6-45b6-ae7f-f9bc4687e03d"
      },
      "execution_count": null,
      "outputs": [
        {
          "output_type": "stream",
          "name": "stderr",
          "text": [
            "Some non-default generation parameters are set in the model config. These should go into a GenerationConfig file (https://huggingface.co/docs/transformers/generation_strategies#save-a-custom-decoding-strategy-with-your-model) instead. This warning will be raised to an exception in v4.41.\n",
            "Non-default generation parameters: {'early_stopping': True, 'num_beams': 4, 'no_repeat_ngram_size': 3, 'forced_bos_token_id': 0, 'forced_eos_token_id': 2}\n"
          ]
        }
      ]
    },
    {
      "cell_type": "code",
      "source": [
        "import torch\n",
        "import pickle\n",
        "\n",
        "# Save the fine-tuned model\n",
        "torch.save(model, '/content/drive/My Drive/shaharyar_bert/fine_tuned_bart_model.pkl')\n"
      ],
      "metadata": {
        "id": "kHSropzuhrbt"
      },
      "execution_count": null,
      "outputs": []
    },
    {
      "cell_type": "code",
      "source": [
        "# Load the model from the pickle file\n",
        "model = torch.load('fine_tuned_bart_model.pkl')\n"
      ],
      "metadata": {
        "id": "lfzNsrJ1iAF9"
      },
      "execution_count": null,
      "outputs": []
    },
    {
      "cell_type": "code",
      "source": [
        "techniques_df = pd.read_csv('/content/drive/My Drive/shaharyar_bert/Techniques.csv')"
      ],
      "metadata": {
        "id": "hClA3m6RiPZe"
      },
      "execution_count": null,
      "outputs": []
    },
    {
      "cell_type": "code",
      "source": [
        "techniques_df.columns"
      ],
      "metadata": {
        "colab": {
          "base_uri": "https://localhost:8080/"
        },
        "id": "5tJwIGMYijU_",
        "outputId": "dcdad821-c58b-4327-b95d-2dd999b4e275"
      },
      "execution_count": null,
      "outputs": [
        {
          "output_type": "execute_result",
          "data": {
            "text/plain": [
              "Index(['ID', 'STIX ID', 'name', 'description', 'url', 'created',\n",
              "       'last modified', 'domain', 'version', 'tactics', 'detection',\n",
              "       'platforms', 'contributors', 'relationship citations'],\n",
              "      dtype='object')"
            ]
          },
          "metadata": {},
          "execution_count": 17
        }
      ]
    },
    {
      "cell_type": "code",
      "source": [
        "# -*- coding: utf-8 -*-\n",
        "\"\"\"\n",
        "Created on Sun Mar  3 15:48:25 2024\n",
        "\n",
        "@author: shahs10\n",
        "\"\"\"\n",
        "\n",
        "cve_file = \"D://family stuff//BERT shahryar Raja//supporting_files//CVE.csv\"\n",
        "technique_file = \"D://family stuff//BERT shahryar Raja//supporting_files//Techniques.csv\"\n",
        "cve_embedding_file = \"D://family stuff//BERT shahryar Raja//supporting_files//cve_embeddings.csv\"\n",
        "technique_embedding_file = \"D://family stuff//BERT shahryar Raja//supporting_files//technique_embeddings.csv\"\n",
        "\n",
        "abbreviation_mapping = {\n",
        "        'APT': 'Advanced Persistent Threat',\n",
        "        'AV': 'Antivirus',\n",
        "        'BOTNET': 'Robot Network',\n",
        "        'CAPTCHA': 'Automated Public Turing Test to Tell Computers and Humans Apart',\n",
        "        'CEH': 'Certified Ethical Hacker',\n",
        "        'CERT': 'Computer Emergency Response Team',\n",
        "        'CIO': 'Chief Information Officer',\n",
        "        'COO': 'Chief Operating Officer',\n",
        "        'CISA': 'Certified Information Systems Auditor',\n",
        "        'CISA': 'Cybersecurity and Infrastructure Security Agency',\n",
        "        'CISO': 'Chief Information Security Officer',\n",
        "        'CISSP': 'Certified Information Systems Security Professional',\n",
        "        'CMMC': 'Cybersecurity Maturity Model Certification',\n",
        "        'CSO': 'Chief Security Officer',\n",
        "        'CSP': 'Cloud Service Provider',\n",
        "        'CVSS': 'Common Vulnerability Scoring System',\n",
        "        'DevOps': 'Development and Operations',\n",
        "        'DevSecOps': 'Development, Security, and Operations',\n",
        "        'DHS': 'Department of Homeland Security',\n",
        "        'DoD': 'Department of Defense',\n",
        "        'DDoS': 'Distributed Denial-of-Service',\n",
        "        'DoS': 'Denial-of-Service',\n",
        "        'DLP': 'Data Loss Prevention',\n",
        "        'DNS': 'Domain Name Server',\n",
        "        'EDR': 'Endpoint Detection and Response',\n",
        "        'EO': 'Executive Order',\n",
        "        'FISMA': 'Federal Information Security Modernization Act',\n",
        "        'GB': 'Gigabyte',\n",
        "        'GDPR': 'General Data Protection Regulation',\n",
        "        'GRC': 'Governance, Risk Management, and Compliance',\n",
        "        'HIPAA': 'Health Insurance Portability and Accountability Act',\n",
        "        'HTTPS': 'Hypertext Transfer Protocol Secure',\n",
        "        'IA': 'Information Assurance'\n",
        "    }\n",
        "\n",
        "cve_usable_columns = ['CWE-Description', 'Description', 'Name','Extended Description']\n",
        "technique_usable_columns = ['name', 'description']\n",
        "\n",
        "cve_id_column = 'CVE ID'\n",
        "technique_id_column = 'ID'\n",
        "\n",
        "model_name = \"bert-base-uncased\"\n"
      ],
      "metadata": {
        "id": "JKD-PE_Xik_4"
      },
      "execution_count": null,
      "outputs": []
    },
    {
      "cell_type": "code",
      "source": [
        "import pandas as pd\n",
        "from transformers import AutoTokenizer, AutoModel\n",
        "import torch\n",
        "import time\n",
        "import numpy as np\n",
        "from sklearn.metrics.pairwise import cosine_similarity\n",
        "\n",
        "\n",
        "def read_csv(file_path):\n",
        "    df = pd.read_csv(file_path)\n",
        "    return df\n",
        "\n",
        "def change_abbreviations(df, column_names):\n",
        "    for column in column_names:\n",
        "       # Apply the replacement for each row in the column\n",
        "       df[column] = df[column].apply(lambda x: abbreviation_mapping.get(x, x))\n",
        "\n",
        "    return df\n",
        "\n",
        "def combine_columns_cve(df, id_column, concat_columns_list):\n",
        "\n",
        "    new_df = pd.DataFrame(columns=['ID', 'Combined Description'])\n",
        "    new_df['Combined Description'] =' '\n",
        "    for column_name in concat_columns_list:\n",
        "\n",
        "        new_df['Combined Description'] = df['Description'] + ' ' + df['Name'] + ' ' + df['CWE-Description'] + ' ' + df['Extended Description']\n",
        "        new_df['Combined Description'] = new_df['Combined Description'].replace(\"null_value\", '')\n",
        "    new_df['ID'] = df[id_column]\n",
        "\n",
        "    return new_df\n",
        "\n",
        "def combine_columns_technique(df, id_column, concat_columns_list):\n",
        "\n",
        "    new_df = pd.DataFrame(columns=['ID', 'Combined Description'])\n",
        "    new_df['Combined Description'] =' '\n",
        "    for column_name in concat_columns_list:\n",
        "\n",
        "        new_df['Combined Description'] = df['description'] + ' ' + df['name']\n",
        "        new_df['Combined Description'] = new_df['Combined Description'].replace(\"null_value\", '')\n",
        "    new_df['ID'] = df[id_column]\n",
        "\n",
        "    return new_df\n",
        "\n",
        "def remove_null(df, usable_columns):\n",
        "    for column in usable_columns:\n",
        "\n",
        "        # Replace null values with a space\n",
        "        df[column] = df[column].fillna('null_value')\n",
        "    return df\n",
        "\n",
        "\n",
        "def generate_embeddings(text):\n",
        "    inputs = tokenizer(text, padding=True, truncation=True, return_tensors=\"pt\")\n",
        "    with torch.no_grad():\n",
        "        outputs = model(**inputs)\n",
        "    # Extract embeddings from one of the model's output layers\n",
        "    embeddings = torch.mean(outputs.last_hidden_state, dim=1)\n",
        "    return embeddings.numpy().tolist()\n",
        "\n",
        "def save_embeddings(df, embedding_file_name):\n",
        "    df.to_csv(embedding_file_name, index=False)\n",
        "\n",
        "\n",
        "def embedding_generation_phase():\n",
        "    t1 = time.time()\n",
        "    print(\"Started CSV reading\")\n",
        "    cve_df = read_csv(cve_file)\n",
        "    technique_df = read_csv(technique_file)\n",
        "    t2 = time.time()\n",
        "    print(\"CSV reading completed in {:.2f} seconds\".format(t2 - t1))\n",
        "\n",
        "    t1 = time.time()\n",
        "    print(\"Started change_abbreviations\")\n",
        "    cve_df = change_abbreviations(cve_df, cve_usable_columns)\n",
        "    technique_df = change_abbreviations(technique_df, technique_usable_columns)\n",
        "    t2 = time.time()\n",
        "    print(\"Change abbreviations completed in {:.2f} seconds\".format(t2 - t1))\n",
        "\n",
        "    t1 = time.time()\n",
        "    print(\"Started remove_null\")\n",
        "    cve_df = remove_null(cve_df, cve_usable_columns)\n",
        "    technique_df = remove_null(technique_df, technique_usable_columns)\n",
        "    t2 = time.time()\n",
        "    print(\"Remove null completed in {:.2f} seconds\".format(t2 - t1))\n",
        "\n",
        "    t1 = time.time()\n",
        "    print(\"Started combine_columns_cve\")\n",
        "    cve_combined_df = combine_columns_cve(cve_df, cve_id_column, cve_usable_columns)\n",
        "    technique_combined_df = combine_columns_technique(technique_df, technique_id_column, technique_usable_columns)\n",
        "    t2 = time.time()\n",
        "    print(\"Combine columns completed in {:.2f} seconds\".format(t2 - t1))"
      ],
      "metadata": {
        "id": "4BvFMlwzirif"
      },
      "execution_count": null,
      "outputs": []
    },
    {
      "cell_type": "code",
      "source": [
        "technique_df = change_abbreviations(techniques_df, technique_usable_columns)\n"
      ],
      "metadata": {
        "id": "syIY4Pjeivq9"
      },
      "execution_count": null,
      "outputs": []
    },
    {
      "cell_type": "code",
      "source": [
        "    technique_df = remove_null(technique_df, technique_usable_columns)\n"
      ],
      "metadata": {
        "id": "eathWA7xi6Q1"
      },
      "execution_count": null,
      "outputs": []
    },
    {
      "cell_type": "code",
      "source": [
        "    technique_combined_df = combine_columns_technique(technique_df, technique_id_column, technique_usable_columns)\n"
      ],
      "metadata": {
        "id": "3tUNqRS7i-5b"
      },
      "execution_count": null,
      "outputs": []
    },
    {
      "cell_type": "code",
      "source": [
        "def generate_embeddings(text):\n",
        "    inputs = tokenizer(text, padding=True, truncation=True, return_tensors=\"pt\").to(device)\n",
        "    with torch.no_grad():\n",
        "        outputs = model(**inputs, return_dict=True)\n",
        "    # Extract embeddings from the encoder's last hidden state\n",
        "    embeddings = torch.mean(outputs.encoder_last_hidden_state, dim=1)\n",
        "    return embeddings.cpu().numpy().tolist()\n"
      ],
      "metadata": {
        "id": "I9B6-Kp5jcgg"
      },
      "execution_count": null,
      "outputs": []
    },
    {
      "cell_type": "code",
      "source": [
        "    technique_combined_df['Embedding'] = technique_combined_df['Combined Description'].apply(generate_embeddings)\n"
      ],
      "metadata": {
        "id": "mMy1hIQ5jAdi"
      },
      "execution_count": null,
      "outputs": []
    },
    {
      "cell_type": "code",
      "source": [
        "technique_combined_df.to_csv('/content/drive/My Drive/shaharyar_bert/finetuned_techniques_embedding.csv', index=False)"
      ],
      "metadata": {
        "id": "LPPYUlnVjrpj"
      },
      "execution_count": null,
      "outputs": []
    },
    {
      "cell_type": "code",
      "source": [],
      "metadata": {
        "id": "afiVWeDtjBwG"
      },
      "execution_count": null,
      "outputs": []
    }
  ]
}